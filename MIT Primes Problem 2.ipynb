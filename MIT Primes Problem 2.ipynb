{
 "cells": [
  {
   "cell_type": "markdown",
   "metadata": {},
   "source": [
    "# MIT PRIMES Computer Science Problem #1\n",
    "#### Description for the program:\n",
    "This program inputs two strings of digits (up to 30 digits in length), and finds all ways to partition the digits of the first number. In addition, it finds the partition which multiplies to the second number (which is a number between 1 and the first number).\n",
    "#### Instructions for how to run the code:\n",
    "When prompted, enter two strings of digits of your choice. Then watch the code run!"
   ]
  },
  {
   "cell_type": "code",
   "execution_count": null,
   "metadata": {},
   "outputs": [],
   "source": [
    "import math"
   ]
  },
  {
   "cell_type": "code",
   "execution_count": null,
   "metadata": {},
   "outputs": [],
   "source": [
    "num = input(\"Enter a number: \")\n",
    "num2 = input(\"Enter a number between 1 and the first number: \")"
   ]
  },
  {
   "cell_type": "code",
   "execution_count": null,
   "metadata": {},
   "outputs": [],
   "source": [
    "intnum = int(num)\n",
    "def split(word): \n",
    "    '''This function splits the string that was taken as an input into its constitutional digits. The result is a list with each digit as a term in the list.'''\n",
    "    return [char for char in word]  "
   ]
  },
  {
   "cell_type": "code",
   "execution_count": null,
   "metadata": {},
   "outputs": [],
   "source": [
    "from itertools import combinations \n",
    "num_string = split(num)\n",
    "length = len(num_string) \n",
    "def combo(arr, r): \n",
    "    return list(combinations(arr, r)) \n",
    "\n",
    "rangeValues = []\n",
    "partitionList = []\n",
    "for i in range (1,length+1):\n",
    "    rangeValues.append(i)\n",
    "for i in range(1,length):\n",
    "    partitionList+=(combo(rangeValues, i))"
   ]
  },
  {
   "cell_type": "code",
   "execution_count": null,
   "metadata": {},
   "outputs": [],
   "source": [
    "list_of_partitions = []"
   ]
  },
  {
   "cell_type": "code",
   "execution_count": null,
   "metadata": {},
   "outputs": [],
   "source": [
    "for x in (partitionList):\n",
    "    partitions = []\n",
    "    split_ratio = list(x) \n",
    "    res = [num_string[i : j] for i, j in zip([0] + split_ratio, split_ratio + [None])] \n",
    "    for i in res:\n",
    "        part = \"\".join(i)\n",
    "        partitions.append(part)\n",
    "        while(\"\" in partitions) : \n",
    "            partitions.remove(\"\")\n",
    "    for i in partitions:\n",
    "        list_of_partitions.append(partitions)"
   ]
  },
  {
   "cell_type": "code",
   "execution_count": null,
   "metadata": {},
   "outputs": [],
   "source": [
    "partitions_list_modified = [] \n",
    "for i in list_of_partitions: \n",
    "    if i not in partitions_list_modified: \n",
    "        partitions_list_modified.append(i)"
   ]
  },
  {
   "cell_type": "code",
   "execution_count": null,
   "metadata": {},
   "outputs": [],
   "source": [
    "product_list = []\n",
    "product = 1\n",
    "for i in partitions_list_modified:\n",
    "    for j in i:\n",
    "        product *= int(j)\n",
    "    product_list.append(product)\n",
    "    product=1"
   ]
  },
  {
   "cell_type": "code",
   "execution_count": null,
   "metadata": {},
   "outputs": [],
   "source": [
    "for i in product_list:\n",
    "    if i == int(num2):\n",
    "        print(partitions_list_modified[product_list.index(i)])\n",
    "        \n",
    "if int(num2) not in product_list:\n",
    "    print(\"No Solutions\")"
   ]
  },
  {
   "cell_type": "code",
   "execution_count": null,
   "metadata": {},
   "outputs": [],
   "source": []
  },
  {
   "cell_type": "code",
   "execution_count": null,
   "metadata": {},
   "outputs": [],
   "source": []
  },
  {
   "cell_type": "code",
   "execution_count": null,
   "metadata": {},
   "outputs": [],
   "source": []
  },
  {
   "cell_type": "code",
   "execution_count": null,
   "metadata": {},
   "outputs": [],
   "source": []
  }
 ],
 "metadata": {
  "kernelspec": {
   "display_name": "Python 3",
   "language": "python",
   "name": "python3"
  },
  "language_info": {
   "codemirror_mode": {
    "name": "ipython",
    "version": 3
   },
   "file_extension": ".py",
   "mimetype": "text/x-python",
   "name": "python",
   "nbconvert_exporter": "python",
   "pygments_lexer": "ipython3",
   "version": "3.8.3"
  }
 },
 "nbformat": 4,
 "nbformat_minor": 4
}
